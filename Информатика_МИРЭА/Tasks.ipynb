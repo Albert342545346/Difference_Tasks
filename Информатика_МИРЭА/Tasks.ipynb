{
 "cells": [
  {
   "cell_type": "code",
   "execution_count": 8,
   "metadata": {},
   "outputs": [
    {
     "name": "stdout",
     "output_type": "stream",
     "text": [
      "Исходный массив: [21, 1, 34, 54, 3, 67, 8, 0]\n",
      "[0, 1, 3, 8, 21, 34, 54, 67]\n"
     ]
    }
   ],
   "source": [
    "massive = [21, 1, 34, 54, 3, 67, 8, 0]\n",
    "\n",
    "def f(massive):\n",
    "    for i in range(len(massive)):\n",
    "        for j in range(len(massive) - 1):\n",
    "            if massive[j] > massive[j + 1]:\n",
    "                massive[j], massive[j + 1] = massive[j + 1], massive[j]\n",
    "    return massive\n",
    "\n",
    "\n",
    "print(\"Исходный массив:\", massive)\n",
    "print(f(massive))"
   ]
  },
  {
   "cell_type": "code",
   "execution_count": 3,
   "metadata": {},
   "outputs": [
    {
     "name": "stdout",
     "output_type": "stream",
     "text": [
      "Исходный массив: [12, 11, 13, 5, 6]\n",
      "[5, 6, 11, 12, 13]\n"
     ]
    }
   ],
   "source": [
    "def insertion_sort(arr):\n",
    "    # Проходим по всем элементам массива начиная со второго\n",
    "    for i in range(1, len(arr)):\n",
    "        key = arr[i]  # Текущий элемент для вставки\n",
    "        j = i - 1\n",
    "        \n",
    "        # Сдвигаем элементы массива, которые больше ключа, на одну позицию вперед\n",
    "        while j >= 0 and key < arr[j]:\n",
    "            arr[j + 1] = arr[j]\n",
    "            j -= 1\n",
    "            \n",
    "        # Вставляем ключ на правильную позицию\n",
    "        arr[j + 1] = key\n",
    "    return arr\n",
    "\n",
    "array = [12, 11, 13, 5, 6]\n",
    "print(\"Исходный массив:\", array)\n",
    "print(insertion_sort(array))\n"
   ]
  },
  {
   "cell_type": "code",
   "execution_count": 7,
   "metadata": {},
   "outputs": [
    {
     "name": "stdout",
     "output_type": "stream",
     "text": [
      "Исходный массив: [64, 25, 12, 22, 11]\n",
      "[11, 12, 22, 25, 64]\n"
     ]
    }
   ],
   "source": [
    "def f(lst):\n",
    "    # Проходим по всем элементам массива\n",
    "    for i in range(len(lst)):\n",
    "        # Предполагаем, что текущий элемент является минимальным\n",
    "        min_index = i\n",
    "        \n",
    "        # Находим индекс минимального элемента в оставшейся части массива\n",
    "        for j in range(i + 1, len(lst)):\n",
    "            if lst[j] < lst[min_index]:\n",
    "                min_index = j\n",
    "        \n",
    "        # Меняем местами найденный минимальный элемент с текущим\n",
    "        lst[i], lst[min_index] = lst[min_index], lst[i]\n",
    "    return lst\n",
    "\n",
    "massive = [64, 25, 12, 22, 11]\n",
    "print(\"Исходный массив:\", massive)\n",
    "print(f(massive))"
   ]
  },
  {
   "cell_type": "code",
   "execution_count": 83,
   "metadata": {},
   "outputs": [
    {
     "name": "stdout",
     "output_type": "stream",
     "text": [
      "a: (1, 1) (2, 43) (3, 23) (4, 7) (5, 333) \n",
      "б: (1, 4) (2, 100) \n",
      "в: (1, 333) \n",
      "г: (1, 14) (2, 22) (3, 566) (4, 100) (5, 333) \n",
      "д: (1, 1) (2, 23) (3, 7) (4, 14) (5, 4) (6, 100) \n",
      "е: (1, 1) (2, 23) "
     ]
    }
   ],
   "source": [
    "import math\n",
    "massive = [1, 43, 23, 7, 14, 22, 4, 566, 100, 333]\n",
    "odd = []\n",
    "\n",
    "for i in range(len(massive)):\n",
    "    if massive[i] % 2 != 0:\n",
    "        odd.append(massive[i])\n",
    "\n",
    "print('a:', end=' ')\n",
    "for i in enumerate(odd, 1):\n",
    "    print(i, end=' ')\n",
    "# ------------------------------------\n",
    "square_even = []\n",
    "\n",
    "for i in range(len(massive)):\n",
    "    if math.sqrt(massive[i]) == int(math.sqrt(massive[i])) and \\\n",
    "    math.sqrt(massive[i]) % 2 == 0:\n",
    "        square_even.append(massive[i])\n",
    "\n",
    "print()\n",
    "print('б:', end=' ')\n",
    "for i in enumerate(square_even, 1):\n",
    "    print(i, end=' ')\n",
    "# ------------------------------------\n",
    "multiples = []\n",
    "\n",
    "for i in range(len(massive)):\n",
    "    if massive[i] % 3 == 0 and massive[i] % 5 != 0:\n",
    "        multiples.append(massive[i])\n",
    "    \n",
    "print()\n",
    "print('в:', end=' ')\n",
    "for i in enumerate(multiples, 1):\n",
    "    print(i, end=' ')\n",
    "# ------------------------------------\n",
    "comparison_1 = []\n",
    "\n",
    "for i in range(len(massive)):\n",
    "    if 2*i < massive[i] < math.factorial(i):\n",
    "        comparison_1.append(massive[i])\n",
    "\n",
    "print()\n",
    "print('г:', end=' ')\n",
    "for i in enumerate(comparison_1, 1):\n",
    "    print(i, end=' ')\n",
    "# ------------------------------------\n",
    "comparison_2 = []\n",
    "\n",
    "for i in range(0, len(massive) - 1):\n",
    "    if massive[i] < (massive[i - 1] + massive[i + 1]) / 2:\n",
    "        comparison_2.append(massive[i])\n",
    "\n",
    "print()\n",
    "print('д:', end=' ')\n",
    "for i in enumerate(comparison_2, 1):\n",
    "    print(i, end=' ')\n",
    "# ------------------------------------\n",
    "even_odd = []\n",
    "\n",
    "for i in range(0, len(massive)):\n",
    "    if i % 2 == 0 and massive[i] % 2 != 0:\n",
    "        even_odd.append(massive[i])\n",
    "\n",
    "print()\n",
    "print('е:', end=' ')\n",
    "for i in enumerate(even_odd, 1):\n",
    "    print(i, end=' ')"
   ]
  },
  {
   "cell_type": "code",
   "execution_count": 105,
   "metadata": {},
   "outputs": [
    {
     "name": "stdout",
     "output_type": "stream",
     "text": [
      "[5, 10, 6, 45]\n",
      "(1, 5) (2, 10) (3, 45) \n",
      " 60\n"
     ]
    }
   ],
   "source": [
    "n = int(input())\n",
    "massive = []\n",
    "\n",
    "for numbers in range(n):\n",
    "    numbers = int(input())\n",
    "    massive.append(numbers)\n",
    "\n",
    "multiples = []\n",
    "for i in range(len(massive)):\n",
    "    if massive[i] % 7 != 0 and massive[i] % 5 == 0:\n",
    "        multiples.append(massive[i])\n",
    "\n",
    "print(massive)\n",
    "for i in enumerate(multiples, 1):\n",
    "    print(i, end=' ')\n",
    "print('\\n', sum([multiples[i] for i in range(len(multiples))]))\n"
   ]
  },
  {
   "cell_type": "code",
   "execution_count": 111,
   "metadata": {},
   "outputs": [
    {
     "name": "stdout",
     "output_type": "stream",
     "text": [
      "Есть\n",
      "Нет\n"
     ]
    }
   ],
   "source": [
    "massive = [2, 0, 0, 4, 874, 6, 8]\n",
    "flag_1 = False\n",
    "\n",
    "for i in range(1, len(massive) + 1):\n",
    "    if massive[i] == 0 and massive[i + 1] == 0:\n",
    "        flag_1 = True\n",
    "    break\n",
    "if flag_1:\n",
    "    print(\"Есть\")\n",
    "else:\n",
    "    print(\"Нет\")\n",
    "# --------------------------------------------------\n",
    "flag_2 = False\n",
    "\n",
    "for i in range(1, len(massive) + 2):\n",
    "    if massive[i] == 0 and massive[i + 1] and massive[i + 2] == 0:\n",
    "        flag_1 = True\n",
    "    break\n",
    "if flag_2:\n",
    "    print(\"Есть\")\n",
    "else:\n",
    "    print(\"Нет\")"
   ]
  },
  {
   "cell_type": "code",
   "execution_count": 2,
   "metadata": {},
   "outputs": [
    {
     "name": "stdout",
     "output_type": "stream",
     "text": [
      "Сумма:  10\n"
     ]
    }
   ],
   "source": [
    "class Node:\n",
    "    def __init__(self, value=0):\n",
    "        self.value = value\n",
    "        self.next = None\n",
    "\n",
    "def sum(number):\n",
    "    current = number\n",
    "    summa = 0\n",
    "    while current is not None:\n",
    "        summa += current.value\n",
    "        current = current.next\n",
    "    return summa\n",
    "\n",
    "node1 = Node(1)\n",
    "node2 = Node(2)\n",
    "node3 = Node(3)\n",
    "node4 = Node(4)\n",
    "node1.next = node2\n",
    "node2.next = node3\n",
    "node3.next = node4\n",
    "\n",
    "sum_result = sum(node1)\n",
    "print(\"Сумма: \", sum_result)\n",
    "\n"
   ]
  }
 ],
 "metadata": {
  "kernelspec": {
   "display_name": "Python 3",
   "language": "python",
   "name": "python3"
  },
  "language_info": {
   "codemirror_mode": {
    "name": "ipython",
    "version": 3
   },
   "file_extension": ".py",
   "mimetype": "text/x-python",
   "name": "python",
   "nbconvert_exporter": "python",
   "pygments_lexer": "ipython3",
   "version": "3.10.7"
  },
  "orig_nbformat": 4
 },
 "nbformat": 4,
 "nbformat_minor": 2
}
