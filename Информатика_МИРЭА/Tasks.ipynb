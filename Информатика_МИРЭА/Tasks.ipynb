{
 "cells": [
  {
   "cell_type": "code",
   "execution_count": 8,
   "metadata": {},
   "outputs": [
    {
     "name": "stdout",
     "output_type": "stream",
     "text": [
      "Исходный массив: [21, 1, 34, 54, 3, 67, 8, 0]\n",
      "[0, 1, 3, 8, 21, 34, 54, 67]\n"
     ]
    }
   ],
   "source": [
    "massive = [21, 1, 34, 54, 3, 67, 8, 0]\n",
    "\n",
    "def f(massive):\n",
    "    for i in range(len(massive)):\n",
    "        for j in range(len(massive) - 1):\n",
    "            if massive[j] > massive[j + 1]:\n",
    "                massive[j], massive[j + 1] = massive[j + 1], massive[j]\n",
    "    return massive\n",
    "\n",
    "\n",
    "print(\"Исходный массив:\", massive)\n",
    "print(f(massive))"
   ]
  },
  {
   "cell_type": "code",
   "execution_count": 3,
   "metadata": {},
   "outputs": [
    {
     "name": "stdout",
     "output_type": "stream",
     "text": [
      "Исходный массив: [12, 11, 13, 5, 6]\n",
      "[5, 6, 11, 12, 13]\n"
     ]
    }
   ],
   "source": [
    "def insertion_sort(arr):\n",
    "    # Проходим по всем элементам массива начиная со второго\n",
    "    for i in range(1, len(arr)):\n",
    "        key = arr[i]  # Текущий элемент для вставки\n",
    "        j = i - 1\n",
    "        \n",
    "        # Сдвигаем элементы массива, которые больше ключа, на одну позицию вперед\n",
    "        while j >= 0 and key < arr[j]:\n",
    "            arr[j + 1] = arr[j]\n",
    "            j -= 1\n",
    "            \n",
    "        # Вставляем ключ на правильную позицию\n",
    "        arr[j + 1] = key\n",
    "    return arr\n",
    "\n",
    "array = [12, 11, 13, 5, 6]\n",
    "print(\"Исходный массив:\", array)\n",
    "print(insertion_sort(array))\n"
   ]
  },
  {
   "cell_type": "code",
   "execution_count": 7,
   "metadata": {},
   "outputs": [
    {
     "name": "stdout",
     "output_type": "stream",
     "text": [
      "Исходный массив: [64, 25, 12, 22, 11]\n",
      "[11, 12, 22, 25, 64]\n"
     ]
    }
   ],
   "source": [
    "def f(lst):\n",
    "    # Проходим по всем элементам массива\n",
    "    for i in range(len(lst)):\n",
    "        # Предполагаем, что текущий элемент является минимальным\n",
    "        min_index = i\n",
    "        \n",
    "        # Находим индекс минимального элемента в оставшейся части массива\n",
    "        for j in range(i + 1, len(lst)):\n",
    "            if lst[j] < lst[min_index]:\n",
    "                min_index = j\n",
    "        \n",
    "        # Меняем местами найденный минимальный элемент с текущим\n",
    "        lst[i], lst[min_index] = lst[min_index], lst[i]\n",
    "    return lst\n",
    "\n",
    "massive = [64, 25, 12, 22, 11]\n",
    "print(\"Исходный массив:\", massive)\n",
    "print(f(massive))"
   ]
  }
 ],
 "metadata": {
  "kernelspec": {
   "display_name": "Python 3",
   "language": "python",
   "name": "python3"
  },
  "language_info": {
   "codemirror_mode": {
    "name": "ipython",
    "version": 3
   },
   "file_extension": ".py",
   "mimetype": "text/x-python",
   "name": "python",
   "nbconvert_exporter": "python",
   "pygments_lexer": "ipython3",
   "version": "3.10.7"
  },
  "orig_nbformat": 4
 },
 "nbformat": 4,
 "nbformat_minor": 2
}
